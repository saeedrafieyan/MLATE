{
 "cells": [
  {
   "cell_type": "code",
   "execution_count": null,
   "id": "b0d82f2b",
   "metadata": {},
   "outputs": [],
   "source": [
    "import os\n",
    "import ast\n",
    "import pandas as pd\n",
    "import numpy as np\n",
    "from sklearn.manifold import TSNE\n",
    "import matplotlib.pyplot as plt\n",
    "from matplotlib import rcParams\n",
    "from imblearn.over_sampling import SMOTE, SVMSMOTE, ADASYN, RandomOverSampler,BorderlineSMOTE, KMeansSMOTE\n",
    "from collections import Counter\n",
    "from sklearn.decomposition import PCA\n",
    "from sklearn.preprocessing import StandardScaler"
   ]
  },
  {
   "cell_type": "code",
   "execution_count": null,
   "id": "e039cb19",
   "metadata": {},
   "outputs": [],
   "source": [
    "rcParams['font.family'] = 'serif'\n",
    "rcParams['font.serif'] = 'Times New Roman'"
   ]
  },
  {
   "cell_type": "code",
   "execution_count": null,
   "id": "d7b39ca9",
   "metadata": {},
   "outputs": [],
   "source": [
    "data = pd.read_excel('imputed_d_xgbf_1000iteration.xlsx').drop(\n",
    "    ['Extrusion_Rate_Lengthwise_(mm/s)', 'Extrusion_Rate_Volume-wise_(mL/s)', 'chamber Temperature  (°C)'], axis=1)\n",
    "data['Cell_Density_(cells/mL)'] = data['Cell_Density_(cells/mL)'] / 1e6"
   ]
  },
  {
   "cell_type": "code",
   "execution_count": null,
   "id": "3f203c53",
   "metadata": {},
   "outputs": [],
   "source": [
    "df = data\n",
    "targetless = df.drop(['Printability', 'Cell Response', 'Scaffold Quality (P*C)'], axis=1)"
   ]
  },
  {
   "cell_type": "code",
   "execution_count": null,
   "id": "0c1601bc",
   "metadata": {},
   "outputs": [],
   "source": [
    "class_counts = pd.DataFrame(columns=['Target', 'Class', 'Count Before Over Sampeling', 'Count After Over Sampeling'])\n",
    "\n",
    "\n",
    "scaler = StandardScaler()\n",
    "pca = PCA(n_components=2)\n",
    "plt.figure(figsize=(42, 24))  \n",
    "\n",
    "targets = ['Printability', 'Cell Response', 'Scaffold Quality (P*C)']\n",
    "\n",
    "for i, target in enumerate(targets, 1):\n",
    "    X = scaler.fit_transform(targetless)\n",
    "    y = df[target]\n",
    "    classes_before = y.value_counts().reset_index()\n",
    "    classes_before.columns = ['Class', 'Count Before Over Sampeling']\n",
    "    X_pca = pca.fit_transform(X)\n",
    "    \n",
    "    plt.subplot(2, 3, i)\n",
    "    classes = np.unique(y)\n",
    "    for cls in classes:\n",
    "        ix = np.where(y == cls)\n",
    "        plt.scatter(X_pca[ix, 0], X_pca[ix, 1], label=f'Class {cls}', alpha=0.5, s=100)\n",
    "    plt.title(f'{target} Data Distribution Before Over Sampeling', fontsize=30, fontweight='bold')\n",
    "    plt.xlabel('PCA Component 1', fontsize=20)\n",
    "    plt.ylabel('PCA Component 2', fontsize=20)\n",
    "    plt.xticks(fontsize=18)  \n",
    "    plt.yticks(fontsize=18)  \n",
    "    plt.legend(title='Class', fontsize=16)\n",
    "    \n",
    "    if target == 'Scaffold Quality (P*C)':\n",
    "        smote = SMOTE(random_state=42, k_neighbors=2)\n",
    "    else:\n",
    "        smote = SMOTE(random_state=42)\n",
    "        \n",
    "    X_resampled, y_resampled = smote.fit_resample(targetless, y)\n",
    "    X_resampled_pca = pca.transform(scaler.fit_transform(X_resampled))\n",
    "    \n",
    "   \n",
    "    y_resampled_df = pd.Series(y_resampled, name=target)\n",
    "\n",
    "    resampled_df = pd.concat([X_resampled, y_resampled_df], axis=1)\n",
    "\n",
    "    file_name = f\"{target.replace(' ', '_').replace('*', 'x')}_resampled_df.csv\"\n",
    "\n",
    "    resampled_df.to_csv(f\"smote/{file_name}\", index=False)\n",
    "    print(f\"Saved resampled dataset for {target} as {file_name}\")\n",
    "    \n",
    "    \n",
    "    classes_after = pd.Series(y_resampled).value_counts().reset_index()\n",
    "    classes_after.columns = ['Class', 'Count After Over Sampeling']\n",
    "    \n",
    "    class_count = pd.merge(classes_before, classes_after, on='Class', how='outer')\n",
    "    class_count['Target'] = target  \n",
    "    class_counts = pd.concat([class_counts, class_count], ignore_index=True)\n",
    "    \n",
    "    \n",
    "    plt.subplot(2, 3, i + 3)  \n",
    "    classes_resampled = np.unique(y_resampled)\n",
    "    for cls in classes_resampled:\n",
    "        ix = np.where(y_resampled == cls)\n",
    "        plt.scatter(X_resampled_pca[ix, 0], X_resampled_pca[ix, 1], label=f'Class {cls}', alpha=0.5, s=100)\n",
    "    plt.title(f'{target} Data Distribution After Over Sampeling', fontsize=30, fontweight='bold')\n",
    "    plt.xlabel('PCA Component 1', fontsize=20)\n",
    "    plt.ylabel('PCA Component 2', fontsize=20)\n",
    "    plt.xticks(fontsize=18)  \n",
    "    plt.yticks(fontsize=18)\n",
    "    plt.legend(title='Class', fontsize=16)\n",
    "\n",
    "plt.tight_layout()\n",
    "plt.show()"
   ]
  }
 ],
 "metadata": {
  "kernelspec": {
   "display_name": "Python 3 (ipykernel)",
   "language": "python",
   "name": "python3"
  },
  "language_info": {
   "codemirror_mode": {
    "name": "ipython",
    "version": 3
   },
   "file_extension": ".py",
   "mimetype": "text/x-python",
   "name": "python",
   "nbconvert_exporter": "python",
   "pygments_lexer": "ipython3",
   "version": "3.9.19"
  }
 },
 "nbformat": 4,
 "nbformat_minor": 5
}

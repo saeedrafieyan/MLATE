{
 "cells": [
  {
   "cell_type": "code",
   "execution_count": null,
   "id": "e4577e2e",
   "metadata": {},
   "outputs": [],
   "source": [
    "import pandas as pd\n",
    "from sklearn.experimental import enable_iterative_imputer\n",
    "from sklearn.impute import IterativeImputer\n",
    "from sklearn.ensemble import RandomForestRegressor\n",
    "\n",
    "from xgboost import XGBRegressor\n",
    "\n",
    "import matplotlib.pyplot as plt\n",
    "import numpy as np\n",
    "from matplotlib import rcParams\n",
    "\n",
    "from sklearn.manifold import TSNE"
   ]
  },
  {
   "cell_type": "code",
   "execution_count": null,
   "id": "0b4fdedb",
   "metadata": {},
   "outputs": [],
   "source": [
    "data = pd.read_excel('df_0.xlsx')\n",
    "data"
   ]
  },
  {
   "cell_type": "code",
   "execution_count": null,
   "id": "0c1ed087",
   "metadata": {},
   "outputs": [],
   "source": [
    "df['Cell Type'] = df['Cell Type'].astype('category').cat.codes"
   ]
  },
  {
   "cell_type": "code",
   "execution_count": null,
   "id": "82cd51ac",
   "metadata": {},
   "outputs": [],
   "source": [
    "category_mapping = dict(enumerate(data['Cell Type'].astype('category').cat.categories))\n",
    "pd.DataFrame({\n",
    "    'Cell Type':category_mapping.values(),\n",
    "    'label':category_mapping.keys()}).to_excel('Cell_labels.xlsx', index=False)"
   ]
  },
  {
   "cell_type": "code",
   "execution_count": null,
   "id": "a7e4ac39",
   "metadata": {},
   "outputs": [],
   "source": [
    "imputer = IterativeImputer(estimator=XGBRegressor(), max_iter=1000, random_state=0)\n",
    "\n",
    "imputer.fit(df)\n",
    "imputed_data_xgb = imputer.transform(df)\n",
    "imputed_df_xgb = pd.DataFrame(imputed_data_xgb, columns=df.columns)"
   ]
  },
  {
   "cell_type": "code",
   "execution_count": null,
   "id": "da23b19d",
   "metadata": {},
   "outputs": [],
   "source": [
    "imputed_df_xgb.to_excel('imputed_df_xgb_1000iteration.xlsx', index=False)"
   ]
  }
 ],
 "metadata": {
  "kernelspec": {
   "display_name": "Python 3 (ipykernel)",
   "language": "python",
   "name": "python3"
  },
  "language_info": {
   "codemirror_mode": {
    "name": "ipython",
    "version": 3
   },
   "file_extension": ".py",
   "mimetype": "text/x-python",
   "name": "python",
   "nbconvert_exporter": "python",
   "pygments_lexer": "ipython3",
   "version": "3.9.19"
  }
 },
 "nbformat": 4,
 "nbformat_minor": 5
}

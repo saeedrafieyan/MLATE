{
 "cells": [
  {
   "cell_type": "code",
   "execution_count": 7,
   "id": "c232bc67",
   "metadata": {},
   "outputs": [
    {
     "name": "stdout",
     "output_type": "stream",
     "text": [
      "Cell behaviour prediction is: [0 0 0 0 1 0 2 0 2 2 1 2 2 2 0 0 0 0 0 0 0 0 0 0 0 0 2 0 2 0 2 1 2 0 0 3 3\n",
      " 3 3 0 3 3 3 2 1 1 0 2 1 1 0 2 1 1 0 1 1 1 1 1 1 1 1 1 1 1 1 2 0 0 0 0 0 0\n",
      " 0 0 0 0 0 0 0 0 0 0 0 0 0 0 1 1 1 2 3 0 0 1 0 0 0]\n",
      "Cell behaviour prediction is: [0 0 0 0 0 0 1 0 2 2 1 0 0 2 0 0 0 0 0 0 0 0 0 0 0 0 2 0 2 0 2 1 2 0 0 0 0\n",
      " 0 0 0 0 0 0 1 1 1 1 1 1 1 1 2 1 1 1 1 0 1 1 0 0 0 1 0 0 0 0 0 0 0 0 0 0 0\n",
      " 0 0 0 0 0 0 0 0 0 0 0 0 0 0 0 1 1 2 0 1 1 0 0 0 0]\n",
      "Cell behaviour prediction is: [0 0 0 0 2 0 2 2 2 2 2 2 2 2 2 2 2 2 2 2 2 2 2 0 0 0 2 2 2 2 2 2 2 2 2 2 2\n",
      " 2 2 2 2 2 2 2 1 1 2 2 1 1 2 2 1 1 2 2 2 2 2 2 2 2 2 2 2 2 2 2 2 2 0 0 0 0\n",
      " 0 0 0 0 0 0 0 0 2 2 0 0 2 2 2 1 1 2 2 2 2 2 2 2 2]\n"
     ]
    },
    {
     "name": "stderr",
     "output_type": "stream",
     "text": [
      "C:\\Users\\saeed\\anaconda3\\lib\\site-packages\\sklearn\\base.py:443: UserWarning: X has feature names, but RandomForestClassifier was fitted without feature names\n",
      "  warnings.warn(\n",
      "C:\\Users\\saeed\\anaconda3\\lib\\site-packages\\sklearn\\base.py:443: UserWarning: X has feature names, but GradientBoostingClassifier was fitted without feature names\n",
      "  warnings.warn(\n",
      "C:\\Users\\saeed\\anaconda3\\lib\\site-packages\\sklearn\\base.py:443: UserWarning: X has feature names, but MinMaxScaler was fitted without feature names\n",
      "  warnings.warn(\n",
      "C:\\Users\\saeed\\anaconda3\\lib\\site-packages\\sklearn\\base.py:443: UserWarning: X has feature names, but DecisionTreeClassifier was fitted without feature names\n",
      "  warnings.warn(\n"
     ]
    }
   ],
   "source": [
    "import pickle\n",
    "import pandas as pd\n",
    "from xgboost import XGBClassifier\n",
    "\n",
    "# load data\n",
    "data = pd.read_excel('input.xlsx', header=1)\n",
    "\n",
    "# load different models\n",
    "Adaboost_model = pickle.load(open('AdaBoostClassifier_Model', 'rb'))\n",
    "XGBoost_model = XGBClassifier()\n",
    "XGBoost_model.load_model(\"XGBoost_model.json\")\n",
    "voting_model = pickle.load(open('VotingClassifier_Model', 'rb'))\n",
    "\n",
    "# prediction\n",
    "Adaboost_prediction = Adaboost_model.predict(data)\n",
    "voting_prediction = voting_model.predict(data)\n",
    "XGBoost_prediction = XGBoost_model.predict(data)\n",
    "\n",
    "# print the results\n",
    "print(f'Cell behaviour prediction is: {Adaboost_prediction}')\n",
    "print(f'Cell behaviour prediction is: {voting_prediction}')\n",
    "print(f'Cell behaviour prediction is: {XGBoost_prediction}')"
   ]
  },
  {
   "cell_type": "code",
   "execution_count": 6,
   "id": "4968cfeb",
   "metadata": {},
   "outputs": [
    {
     "data": {
      "text/html": [
       "<div>\n",
       "<style scoped>\n",
       "    .dataframe tbody tr th:only-of-type {\n",
       "        vertical-align: middle;\n",
       "    }\n",
       "\n",
       "    .dataframe tbody tr th {\n",
       "        vertical-align: top;\n",
       "    }\n",
       "\n",
       "    .dataframe thead th {\n",
       "        text-align: right;\n",
       "    }\n",
       "</style>\n",
       "<table border=\"1\" class=\"dataframe\">\n",
       "  <thead>\n",
       "    <tr style=\"text-align: right;\">\n",
       "      <th></th>\n",
       "      <th>ECM</th>\n",
       "      <th>Ppy</th>\n",
       "      <th>chitosan</th>\n",
       "      <th>collagen</th>\n",
       "      <th>matrigel</th>\n",
       "      <th>medium</th>\n",
       "      <th>CNT</th>\n",
       "      <th>alginate</th>\n",
       "      <th>gelatin</th>\n",
       "      <th>GA</th>\n",
       "      <th>...</th>\n",
       "      <th>HUVECs</th>\n",
       "      <th>iPSCs</th>\n",
       "      <th>USSCs</th>\n",
       "      <th>AD-MSCs</th>\n",
       "      <th>hydrogel</th>\n",
       "      <th>patch</th>\n",
       "      <th>sponge</th>\n",
       "      <th>electrospining</th>\n",
       "      <th>(micro)plate</th>\n",
       "      <th>3D printing</th>\n",
       "    </tr>\n",
       "  </thead>\n",
       "  <tbody>\n",
       "    <tr>\n",
       "      <th>0</th>\n",
       "      <td>10</td>\n",
       "      <td>0</td>\n",
       "      <td>0.5</td>\n",
       "      <td>0</td>\n",
       "      <td>0</td>\n",
       "      <td>0</td>\n",
       "      <td>0</td>\n",
       "      <td>0</td>\n",
       "      <td>0</td>\n",
       "      <td>0</td>\n",
       "      <td>...</td>\n",
       "      <td>0</td>\n",
       "      <td>0</td>\n",
       "      <td>0</td>\n",
       "      <td>0</td>\n",
       "      <td>1</td>\n",
       "      <td>0</td>\n",
       "      <td>0</td>\n",
       "      <td>0</td>\n",
       "      <td>0</td>\n",
       "      <td>0</td>\n",
       "    </tr>\n",
       "  </tbody>\n",
       "</table>\n",
       "<p>1 rows × 55 columns</p>\n",
       "</div>"
      ],
      "text/plain": [
       "   ECM  Ppy  chitosan  collagen  matrigel  medium  CNT  alginate  gelatin  GA  \\\n",
       "0   10    0       0.5         0         0       0    0         0        0   0   \n",
       "\n",
       "   ...  HUVECs  iPSCs  USSCs  AD-MSCs  hydrogel  patch  sponge  \\\n",
       "0  ...       0      0      0        0         1      0       0   \n",
       "\n",
       "   electrospining  (micro)plate  3D printing  \n",
       "0               0             0            0  \n",
       "\n",
       "[1 rows x 55 columns]"
      ]
     },
     "execution_count": 6,
     "metadata": {},
     "output_type": "execute_result"
    }
   ],
   "source": [
    "data"
   ]
  },
  {
   "cell_type": "code",
   "execution_count": 9,
   "id": "f577ac71",
   "metadata": {},
   "outputs": [],
   "source": [
    "real_data = pd.read_excel(\"FinalDataset.xlsx\",header=1)\n",
    "# real_data\n",
    "y_true = list(real_data['cell response'])"
   ]
  },
  {
   "cell_type": "code",
   "execution_count": 10,
   "id": "6572965f",
   "metadata": {},
   "outputs": [
    {
     "name": "stdout",
     "output_type": "stream",
     "text": [
      "Adaboost_prediction:\n",
      "               precision    recall  f1-score   support\n",
      "\n",
      "           0       0.22      0.79      0.34        14\n",
      "           1       0.56      0.36      0.44        39\n",
      "           2       0.40      0.21      0.27        29\n",
      "           3       0.38      0.18      0.24        17\n",
      "\n",
      "    accuracy                           0.34        99\n",
      "   macro avg       0.39      0.38      0.32        99\n",
      "weighted avg       0.43      0.34      0.34        99\n",
      "\n",
      "voting_prediction\n",
      "               precision    recall  f1-score   support\n",
      "\n",
      "           0       0.21      1.00      0.34        14\n",
      "           1       0.68      0.38      0.49        39\n",
      "           2       0.56      0.17      0.26        29\n",
      "           3       0.00      0.00      0.00        17\n",
      "\n",
      "    accuracy                           0.34        99\n",
      "   macro avg       0.36      0.39      0.27        99\n",
      "weighted avg       0.46      0.34      0.32        99\n",
      "\n",
      "XGBoost_prediction\n",
      "               precision    recall  f1-score   support\n",
      "\n",
      "           0       0.36      0.57      0.44        14\n",
      "           1       0.88      0.18      0.30        39\n",
      "           2       0.32      0.76      0.45        29\n",
      "           3       0.00      0.00      0.00        17\n",
      "\n",
      "    accuracy                           0.37        99\n",
      "   macro avg       0.39      0.38      0.30        99\n",
      "weighted avg       0.49      0.37      0.31        99\n",
      "\n"
     ]
    },
    {
     "name": "stderr",
     "output_type": "stream",
     "text": [
      "C:\\Users\\saeed\\anaconda3\\lib\\site-packages\\sklearn\\metrics\\_classification.py:1318: UndefinedMetricWarning: Precision and F-score are ill-defined and being set to 0.0 in labels with no predicted samples. Use `zero_division` parameter to control this behavior.\n",
      "  _warn_prf(average, modifier, msg_start, len(result))\n",
      "C:\\Users\\saeed\\anaconda3\\lib\\site-packages\\sklearn\\metrics\\_classification.py:1318: UndefinedMetricWarning: Precision and F-score are ill-defined and being set to 0.0 in labels with no predicted samples. Use `zero_division` parameter to control this behavior.\n",
      "  _warn_prf(average, modifier, msg_start, len(result))\n",
      "C:\\Users\\saeed\\anaconda3\\lib\\site-packages\\sklearn\\metrics\\_classification.py:1318: UndefinedMetricWarning: Precision and F-score are ill-defined and being set to 0.0 in labels with no predicted samples. Use `zero_division` parameter to control this behavior.\n",
      "  _warn_prf(average, modifier, msg_start, len(result))\n",
      "C:\\Users\\saeed\\anaconda3\\lib\\site-packages\\sklearn\\metrics\\_classification.py:1318: UndefinedMetricWarning: Precision and F-score are ill-defined and being set to 0.0 in labels with no predicted samples. Use `zero_division` parameter to control this behavior.\n",
      "  _warn_prf(average, modifier, msg_start, len(result))\n",
      "C:\\Users\\saeed\\anaconda3\\lib\\site-packages\\sklearn\\metrics\\_classification.py:1318: UndefinedMetricWarning: Precision and F-score are ill-defined and being set to 0.0 in labels with no predicted samples. Use `zero_division` parameter to control this behavior.\n",
      "  _warn_prf(average, modifier, msg_start, len(result))\n",
      "C:\\Users\\saeed\\anaconda3\\lib\\site-packages\\sklearn\\metrics\\_classification.py:1318: UndefinedMetricWarning: Precision and F-score are ill-defined and being set to 0.0 in labels with no predicted samples. Use `zero_division` parameter to control this behavior.\n",
      "  _warn_prf(average, modifier, msg_start, len(result))\n"
     ]
    }
   ],
   "source": [
    "from sklearn.metrics import classification_report\n",
    "\n",
    "print('Adaboost_prediction:\\n',classification_report(y_true, Adaboost_prediction)) \n",
    "print('voting_prediction\\n',classification_report(y_true, voting_prediction)) \n",
    "print('XGBoost_prediction\\n',classification_report(y_true, XGBoost_prediction)) "
   ]
  },
  {
   "cell_type": "code",
   "execution_count": null,
   "id": "c97d8087",
   "metadata": {},
   "outputs": [],
   "source": []
  }
 ],
 "metadata": {
  "kernelspec": {
   "display_name": "Python 3 (ipykernel)",
   "language": "python",
   "name": "python3"
  },
  "language_info": {
   "codemirror_mode": {
    "name": "ipython",
    "version": 3
   },
   "file_extension": ".py",
   "mimetype": "text/x-python",
   "name": "python",
   "nbconvert_exporter": "python",
   "pygments_lexer": "ipython3",
   "version": "3.9.13"
  }
 },
 "nbformat": 4,
 "nbformat_minor": 5
}
